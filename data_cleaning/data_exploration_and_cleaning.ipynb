{
 "cells": [
  {
   "cell_type": "markdown",
   "metadata": {},
   "source": [
    "### `Data Exploration and Cleaning` (If needed)"
   ]
  },
  {
   "cell_type": "code",
   "execution_count": 1,
   "metadata": {},
   "outputs": [],
   "source": [
    "# Importing libreries\n",
    "import pandas as pd"
   ]
  },
  {
   "cell_type": "code",
   "execution_count": 33,
   "metadata": {},
   "outputs": [],
   "source": [
    "# Loading the txt data.\n",
    "# df = pd.read_csv('../Dataset/train_FD003.txt', sep='\\s', header=None)\n",
    "# df2 = pd.read_csv('../Dataset/test_FD003.txt', sep='\\s', header=None)"
   ]
  },
  {
   "cell_type": "code",
   "execution_count": 61,
   "metadata": {},
   "outputs": [],
   "source": [
    "df = pd.read_csv('./training_data.csv', index_col='idx')\n",
    "df2 = pd.read_csv('./testing_data.csv', index_col='idx')"
   ]
  },
  {
   "cell_type": "code",
   "execution_count": 62,
   "metadata": {},
   "outputs": [
    {
     "name": "stdout",
     "output_type": "stream",
     "text": [
      "Training Data : 24720\n",
      "Testing Data : 12231\n"
     ]
    }
   ],
   "source": [
    "print('Training Data :', len(df.value_counts()))\n",
    "print('Testing Data :', len(df2.value_counts()))"
   ]
  },
  {
   "cell_type": "code",
   "execution_count": 63,
   "metadata": {},
   "outputs": [
    {
     "data": {
      "text/html": [
       "<div>\n",
       "<style scoped>\n",
       "    .dataframe tbody tr th:only-of-type {\n",
       "        vertical-align: middle;\n",
       "    }\n",
       "\n",
       "    .dataframe tbody tr th {\n",
       "        vertical-align: top;\n",
       "    }\n",
       "\n",
       "    .dataframe thead th {\n",
       "        text-align: right;\n",
       "    }\n",
       "</style>\n",
       "<table border=\"1\" class=\"dataframe\">\n",
       "  <thead>\n",
       "    <tr style=\"text-align: right;\">\n",
       "      <th></th>\n",
       "      <th>unit_no</th>\n",
       "      <th>time_cycles</th>\n",
       "      <th>op_set1</th>\n",
       "      <th>op_set2</th>\n",
       "      <th>op_set3</th>\n",
       "      <th>sem_1</th>\n",
       "      <th>sem_2</th>\n",
       "      <th>sem_3</th>\n",
       "      <th>sem_4</th>\n",
       "      <th>sem_5</th>\n",
       "      <th>...</th>\n",
       "      <th>sem_12</th>\n",
       "      <th>sem_13</th>\n",
       "      <th>sem_14</th>\n",
       "      <th>sem_15</th>\n",
       "      <th>sem_16</th>\n",
       "      <th>sem_17</th>\n",
       "      <th>sem_18</th>\n",
       "      <th>sem_19</th>\n",
       "      <th>sem_20</th>\n",
       "      <th>sem_21</th>\n",
       "    </tr>\n",
       "    <tr>\n",
       "      <th>idx</th>\n",
       "      <th></th>\n",
       "      <th></th>\n",
       "      <th></th>\n",
       "      <th></th>\n",
       "      <th></th>\n",
       "      <th></th>\n",
       "      <th></th>\n",
       "      <th></th>\n",
       "      <th></th>\n",
       "      <th></th>\n",
       "      <th></th>\n",
       "      <th></th>\n",
       "      <th></th>\n",
       "      <th></th>\n",
       "      <th></th>\n",
       "      <th></th>\n",
       "      <th></th>\n",
       "      <th></th>\n",
       "      <th></th>\n",
       "      <th></th>\n",
       "      <th></th>\n",
       "    </tr>\n",
       "  </thead>\n",
       "  <tbody>\n",
       "    <tr>\n",
       "      <th>0</th>\n",
       "      <td>1</td>\n",
       "      <td>1</td>\n",
       "      <td>-0.0005</td>\n",
       "      <td>0.0004</td>\n",
       "      <td>100</td>\n",
       "      <td>518.67</td>\n",
       "      <td>642.36</td>\n",
       "      <td>1583.23</td>\n",
       "      <td>1396.84</td>\n",
       "      <td>14.62</td>\n",
       "      <td>...</td>\n",
       "      <td>522.31</td>\n",
       "      <td>2388.01</td>\n",
       "      <td>8145.32</td>\n",
       "      <td>8.4246</td>\n",
       "      <td>0.03</td>\n",
       "      <td>391</td>\n",
       "      <td>2388</td>\n",
       "      <td>100</td>\n",
       "      <td>39.11</td>\n",
       "      <td>23.3537</td>\n",
       "    </tr>\n",
       "    <tr>\n",
       "      <th>1</th>\n",
       "      <td>1</td>\n",
       "      <td>2</td>\n",
       "      <td>0.0008</td>\n",
       "      <td>-0.0003</td>\n",
       "      <td>100</td>\n",
       "      <td>518.67</td>\n",
       "      <td>642.50</td>\n",
       "      <td>1584.69</td>\n",
       "      <td>1396.89</td>\n",
       "      <td>14.62</td>\n",
       "      <td>...</td>\n",
       "      <td>522.42</td>\n",
       "      <td>2388.03</td>\n",
       "      <td>8152.85</td>\n",
       "      <td>8.4403</td>\n",
       "      <td>0.03</td>\n",
       "      <td>392</td>\n",
       "      <td>2388</td>\n",
       "      <td>100</td>\n",
       "      <td>38.99</td>\n",
       "      <td>23.4491</td>\n",
       "    </tr>\n",
       "    <tr>\n",
       "      <th>2</th>\n",
       "      <td>1</td>\n",
       "      <td>3</td>\n",
       "      <td>-0.0014</td>\n",
       "      <td>-0.0002</td>\n",
       "      <td>100</td>\n",
       "      <td>518.67</td>\n",
       "      <td>642.18</td>\n",
       "      <td>1582.35</td>\n",
       "      <td>1405.61</td>\n",
       "      <td>14.62</td>\n",
       "      <td>...</td>\n",
       "      <td>522.03</td>\n",
       "      <td>2388.00</td>\n",
       "      <td>8150.17</td>\n",
       "      <td>8.3901</td>\n",
       "      <td>0.03</td>\n",
       "      <td>391</td>\n",
       "      <td>2388</td>\n",
       "      <td>100</td>\n",
       "      <td>38.85</td>\n",
       "      <td>23.3669</td>\n",
       "    </tr>\n",
       "    <tr>\n",
       "      <th>3</th>\n",
       "      <td>1</td>\n",
       "      <td>4</td>\n",
       "      <td>-0.0020</td>\n",
       "      <td>0.0001</td>\n",
       "      <td>100</td>\n",
       "      <td>518.67</td>\n",
       "      <td>642.92</td>\n",
       "      <td>1585.61</td>\n",
       "      <td>1392.27</td>\n",
       "      <td>14.62</td>\n",
       "      <td>...</td>\n",
       "      <td>522.49</td>\n",
       "      <td>2388.08</td>\n",
       "      <td>8146.56</td>\n",
       "      <td>8.3878</td>\n",
       "      <td>0.03</td>\n",
       "      <td>392</td>\n",
       "      <td>2388</td>\n",
       "      <td>100</td>\n",
       "      <td>38.96</td>\n",
       "      <td>23.2951</td>\n",
       "    </tr>\n",
       "    <tr>\n",
       "      <th>4</th>\n",
       "      <td>1</td>\n",
       "      <td>5</td>\n",
       "      <td>0.0016</td>\n",
       "      <td>0.0000</td>\n",
       "      <td>100</td>\n",
       "      <td>518.67</td>\n",
       "      <td>641.68</td>\n",
       "      <td>1588.63</td>\n",
       "      <td>1397.65</td>\n",
       "      <td>14.62</td>\n",
       "      <td>...</td>\n",
       "      <td>522.58</td>\n",
       "      <td>2388.03</td>\n",
       "      <td>8147.80</td>\n",
       "      <td>8.3869</td>\n",
       "      <td>0.03</td>\n",
       "      <td>392</td>\n",
       "      <td>2388</td>\n",
       "      <td>100</td>\n",
       "      <td>39.14</td>\n",
       "      <td>23.4583</td>\n",
       "    </tr>\n",
       "  </tbody>\n",
       "</table>\n",
       "<p>5 rows × 26 columns</p>\n",
       "</div>"
      ],
      "text/plain": [
       "     unit_no  time_cycles  op_set1  op_set2  op_set3   sem_1   sem_2    sem_3  \\\n",
       "idx                                                                             \n",
       "0          1            1  -0.0005   0.0004      100  518.67  642.36  1583.23   \n",
       "1          1            2   0.0008  -0.0003      100  518.67  642.50  1584.69   \n",
       "2          1            3  -0.0014  -0.0002      100  518.67  642.18  1582.35   \n",
       "3          1            4  -0.0020   0.0001      100  518.67  642.92  1585.61   \n",
       "4          1            5   0.0016   0.0000      100  518.67  641.68  1588.63   \n",
       "\n",
       "       sem_4  sem_5  ...  sem_12   sem_13   sem_14  sem_15  sem_16  sem_17  \\\n",
       "idx                  ...                                                     \n",
       "0    1396.84  14.62  ...  522.31  2388.01  8145.32  8.4246    0.03     391   \n",
       "1    1396.89  14.62  ...  522.42  2388.03  8152.85  8.4403    0.03     392   \n",
       "2    1405.61  14.62  ...  522.03  2388.00  8150.17  8.3901    0.03     391   \n",
       "3    1392.27  14.62  ...  522.49  2388.08  8146.56  8.3878    0.03     392   \n",
       "4    1397.65  14.62  ...  522.58  2388.03  8147.80  8.3869    0.03     392   \n",
       "\n",
       "     sem_18  sem_19  sem_20   sem_21  \n",
       "idx                                   \n",
       "0      2388     100   39.11  23.3537  \n",
       "1      2388     100   38.99  23.4491  \n",
       "2      2388     100   38.85  23.3669  \n",
       "3      2388     100   38.96  23.2951  \n",
       "4      2388     100   39.14  23.4583  \n",
       "\n",
       "[5 rows x 26 columns]"
      ]
     },
     "execution_count": 63,
     "metadata": {},
     "output_type": "execute_result"
    }
   ],
   "source": [
    "df.head()"
   ]
  },
  {
   "cell_type": "code",
   "execution_count": 64,
   "metadata": {},
   "outputs": [
    {
     "data": {
      "text/html": [
       "<div>\n",
       "<style scoped>\n",
       "    .dataframe tbody tr th:only-of-type {\n",
       "        vertical-align: middle;\n",
       "    }\n",
       "\n",
       "    .dataframe tbody tr th {\n",
       "        vertical-align: top;\n",
       "    }\n",
       "\n",
       "    .dataframe thead th {\n",
       "        text-align: right;\n",
       "    }\n",
       "</style>\n",
       "<table border=\"1\" class=\"dataframe\">\n",
       "  <thead>\n",
       "    <tr style=\"text-align: right;\">\n",
       "      <th></th>\n",
       "      <th>unit_no</th>\n",
       "      <th>time_cycles</th>\n",
       "      <th>op_set1</th>\n",
       "      <th>op_set2</th>\n",
       "      <th>op_set3</th>\n",
       "      <th>sem_1</th>\n",
       "      <th>sem_2</th>\n",
       "      <th>sem_3</th>\n",
       "      <th>sem_4</th>\n",
       "      <th>sem_5</th>\n",
       "      <th>...</th>\n",
       "      <th>sem_12</th>\n",
       "      <th>sem_13</th>\n",
       "      <th>sem_14</th>\n",
       "      <th>sem_15</th>\n",
       "      <th>sem_16</th>\n",
       "      <th>sem_17</th>\n",
       "      <th>sem_18</th>\n",
       "      <th>sem_19</th>\n",
       "      <th>sem_20</th>\n",
       "      <th>sem_21</th>\n",
       "    </tr>\n",
       "    <tr>\n",
       "      <th>idx</th>\n",
       "      <th></th>\n",
       "      <th></th>\n",
       "      <th></th>\n",
       "      <th></th>\n",
       "      <th></th>\n",
       "      <th></th>\n",
       "      <th></th>\n",
       "      <th></th>\n",
       "      <th></th>\n",
       "      <th></th>\n",
       "      <th></th>\n",
       "      <th></th>\n",
       "      <th></th>\n",
       "      <th></th>\n",
       "      <th></th>\n",
       "      <th></th>\n",
       "      <th></th>\n",
       "      <th></th>\n",
       "      <th></th>\n",
       "      <th></th>\n",
       "      <th></th>\n",
       "    </tr>\n",
       "  </thead>\n",
       "  <tbody>\n",
       "    <tr>\n",
       "      <th>0</th>\n",
       "      <td>1</td>\n",
       "      <td>1</td>\n",
       "      <td>-0.0017</td>\n",
       "      <td>-0.0004</td>\n",
       "      <td>100</td>\n",
       "      <td>518.67</td>\n",
       "      <td>641.94</td>\n",
       "      <td>1581.93</td>\n",
       "      <td>1396.93</td>\n",
       "      <td>14.62</td>\n",
       "      <td>...</td>\n",
       "      <td>521.89</td>\n",
       "      <td>2387.94</td>\n",
       "      <td>8133.48</td>\n",
       "      <td>8.3760</td>\n",
       "      <td>0.03</td>\n",
       "      <td>391</td>\n",
       "      <td>2388</td>\n",
       "      <td>100</td>\n",
       "      <td>39.07</td>\n",
       "      <td>23.4468</td>\n",
       "    </tr>\n",
       "    <tr>\n",
       "      <th>1</th>\n",
       "      <td>1</td>\n",
       "      <td>2</td>\n",
       "      <td>0.0006</td>\n",
       "      <td>-0.0002</td>\n",
       "      <td>100</td>\n",
       "      <td>518.67</td>\n",
       "      <td>642.02</td>\n",
       "      <td>1584.86</td>\n",
       "      <td>1398.90</td>\n",
       "      <td>14.62</td>\n",
       "      <td>...</td>\n",
       "      <td>521.85</td>\n",
       "      <td>2388.01</td>\n",
       "      <td>8137.44</td>\n",
       "      <td>8.4062</td>\n",
       "      <td>0.03</td>\n",
       "      <td>391</td>\n",
       "      <td>2388</td>\n",
       "      <td>100</td>\n",
       "      <td>39.04</td>\n",
       "      <td>23.4807</td>\n",
       "    </tr>\n",
       "    <tr>\n",
       "      <th>2</th>\n",
       "      <td>1</td>\n",
       "      <td>3</td>\n",
       "      <td>0.0014</td>\n",
       "      <td>-0.0003</td>\n",
       "      <td>100</td>\n",
       "      <td>518.67</td>\n",
       "      <td>641.68</td>\n",
       "      <td>1581.78</td>\n",
       "      <td>1391.92</td>\n",
       "      <td>14.62</td>\n",
       "      <td>...</td>\n",
       "      <td>522.10</td>\n",
       "      <td>2387.94</td>\n",
       "      <td>8138.25</td>\n",
       "      <td>8.3553</td>\n",
       "      <td>0.03</td>\n",
       "      <td>391</td>\n",
       "      <td>2388</td>\n",
       "      <td>100</td>\n",
       "      <td>39.10</td>\n",
       "      <td>23.4244</td>\n",
       "    </tr>\n",
       "    <tr>\n",
       "      <th>3</th>\n",
       "      <td>1</td>\n",
       "      <td>4</td>\n",
       "      <td>0.0027</td>\n",
       "      <td>0.0001</td>\n",
       "      <td>100</td>\n",
       "      <td>518.67</td>\n",
       "      <td>642.20</td>\n",
       "      <td>1584.53</td>\n",
       "      <td>1395.34</td>\n",
       "      <td>14.62</td>\n",
       "      <td>...</td>\n",
       "      <td>522.45</td>\n",
       "      <td>2387.96</td>\n",
       "      <td>8137.07</td>\n",
       "      <td>8.3709</td>\n",
       "      <td>0.03</td>\n",
       "      <td>392</td>\n",
       "      <td>2388</td>\n",
       "      <td>100</td>\n",
       "      <td>38.97</td>\n",
       "      <td>23.4782</td>\n",
       "    </tr>\n",
       "    <tr>\n",
       "      <th>4</th>\n",
       "      <td>1</td>\n",
       "      <td>5</td>\n",
       "      <td>-0.0001</td>\n",
       "      <td>0.0001</td>\n",
       "      <td>100</td>\n",
       "      <td>518.67</td>\n",
       "      <td>642.46</td>\n",
       "      <td>1589.03</td>\n",
       "      <td>1395.86</td>\n",
       "      <td>14.62</td>\n",
       "      <td>...</td>\n",
       "      <td>521.91</td>\n",
       "      <td>2387.97</td>\n",
       "      <td>8134.20</td>\n",
       "      <td>8.4146</td>\n",
       "      <td>0.03</td>\n",
       "      <td>391</td>\n",
       "      <td>2388</td>\n",
       "      <td>100</td>\n",
       "      <td>39.09</td>\n",
       "      <td>23.3950</td>\n",
       "    </tr>\n",
       "  </tbody>\n",
       "</table>\n",
       "<p>5 rows × 26 columns</p>\n",
       "</div>"
      ],
      "text/plain": [
       "     unit_no  time_cycles  op_set1  op_set2  op_set3   sem_1   sem_2    sem_3  \\\n",
       "idx                                                                             \n",
       "0          1            1  -0.0017  -0.0004      100  518.67  641.94  1581.93   \n",
       "1          1            2   0.0006  -0.0002      100  518.67  642.02  1584.86   \n",
       "2          1            3   0.0014  -0.0003      100  518.67  641.68  1581.78   \n",
       "3          1            4   0.0027   0.0001      100  518.67  642.20  1584.53   \n",
       "4          1            5  -0.0001   0.0001      100  518.67  642.46  1589.03   \n",
       "\n",
       "       sem_4  sem_5  ...  sem_12   sem_13   sem_14  sem_15  sem_16  sem_17  \\\n",
       "idx                  ...                                                     \n",
       "0    1396.93  14.62  ...  521.89  2387.94  8133.48  8.3760    0.03     391   \n",
       "1    1398.90  14.62  ...  521.85  2388.01  8137.44  8.4062    0.03     391   \n",
       "2    1391.92  14.62  ...  522.10  2387.94  8138.25  8.3553    0.03     391   \n",
       "3    1395.34  14.62  ...  522.45  2387.96  8137.07  8.3709    0.03     392   \n",
       "4    1395.86  14.62  ...  521.91  2387.97  8134.20  8.4146    0.03     391   \n",
       "\n",
       "     sem_18  sem_19  sem_20   sem_21  \n",
       "idx                                   \n",
       "0      2388     100   39.07  23.4468  \n",
       "1      2388     100   39.04  23.4807  \n",
       "2      2388     100   39.10  23.4244  \n",
       "3      2388     100   38.97  23.4782  \n",
       "4      2388     100   39.09  23.3950  \n",
       "\n",
       "[5 rows x 26 columns]"
      ]
     },
     "execution_count": 64,
     "metadata": {},
     "output_type": "execute_result"
    }
   ],
   "source": [
    "df2.head()"
   ]
  },
  {
   "cell_type": "markdown",
   "metadata": {},
   "source": [
    "### `Data Cleaning Steps`\n",
    "- Handle missing values\n",
    "- Fill 0 or Nulls with Median\n",
    "- Add RUL columns (max cycles - current cycle)"
   ]
  },
  {
   "cell_type": "code",
   "execution_count": 86,
   "metadata": {},
   "outputs": [
    {
     "data": {
      "text/plain": [
       "unit_no        24720\n",
       "time_cycles    24720\n",
       "op_set1        24720\n",
       "op_set2        24720\n",
       "op_set3        24720\n",
       "sem_1          24720\n",
       "sem_2          24720\n",
       "sem_3          24720\n",
       "sem_4          24720\n",
       "sem_5          24720\n",
       "sem_6          24720\n",
       "sem_7          24720\n",
       "sem_8          24720\n",
       "sem_9          24720\n",
       "sem_10         24720\n",
       "sem_11         24720\n",
       "sem_12         24720\n",
       "sem_13         24720\n",
       "sem_14         24720\n",
       "sem_15         24720\n",
       "sem_16         24720\n",
       "sem_17         24720\n",
       "sem_18         24720\n",
       "sem_19         24720\n",
       "sem_20         24720\n",
       "sem_21         24720\n",
       "dtype: int64"
      ]
     },
     "execution_count": 86,
     "metadata": {},
     "output_type": "execute_result"
    }
   ],
   "source": [
    "# Data Cleaning for Training Data.\n",
    "# Checking for NUll values.\n",
    "df.count()"
   ]
  },
  {
   "cell_type": "code",
   "execution_count": 67,
   "metadata": {},
   "outputs": [
    {
     "data": {
      "text/plain": [
       "Index(['unit_no', 'time_cycles', 'op_set1', 'op_set2', 'op_set3', 'sem_1',\n",
       "       'sem_2', 'sem_3', 'sem_4', 'sem_5', 'sem_6', 'sem_7', 'sem_8', 'sem_9',\n",
       "       'sem_10', 'sem_11', 'sem_12', 'sem_13', 'sem_14', 'sem_15', 'sem_16',\n",
       "       'sem_17', 'sem_18', 'sem_19', 'sem_20', 'sem_21'],\n",
       "      dtype='object')"
      ]
     },
     "execution_count": 67,
     "metadata": {},
     "output_type": "execute_result"
    }
   ],
   "source": [
    "df.columns"
   ]
  },
  {
   "cell_type": "code",
   "execution_count": 98,
   "metadata": {},
   "outputs": [
    {
     "data": {
      "text/plain": [
       "unit_no        True\n",
       "time_cycles    True\n",
       "op_set1        True\n",
       "op_set2        True\n",
       "op_set3        True\n",
       "sem_1          True\n",
       "sem_2          True\n",
       "sem_3          True\n",
       "sem_4          True\n",
       "sem_5          True\n",
       "sem_6          True\n",
       "sem_7          True\n",
       "sem_8          True\n",
       "sem_9          True\n",
       "sem_10         True\n",
       "sem_11         True\n",
       "sem_12         True\n",
       "sem_13         True\n",
       "sem_14         True\n",
       "sem_15         True\n",
       "sem_16         True\n",
       "sem_17         True\n",
       "sem_18         True\n",
       "sem_19         True\n",
       "sem_20         True\n",
       "sem_21         True\n",
       "dtype: bool"
      ]
     },
     "execution_count": 98,
     "metadata": {},
     "output_type": "execute_result"
    }
   ],
   "source": [
    "df.all()\n",
    "# Okay, So in op_set1 and op_set2 contains 0s....."
   ]
  },
  {
   "cell_type": "code",
   "execution_count": 87,
   "metadata": {},
   "outputs": [],
   "source": [
    "# Handling 0s with mean values.\n",
    "df['op_set1']=df['op_set1'].replace(0,df['op_set1'].mean())\n",
    "for indx, zero in enumerate(df['op_set1']):\n",
    "    if zero == 0:\n",
    "        print(indx)"
   ]
  },
  {
   "cell_type": "code",
   "execution_count": 88,
   "metadata": {},
   "outputs": [],
   "source": [
    "df['op_set2']=df['op_set2'].replace(0,df['op_set2'].mean())\n",
    "for indx, zero in enumerate(df['op_set1']):\n",
    "    if zero == 0:\n",
    "        print(indx)"
   ]
  },
  {
   "cell_type": "code",
   "execution_count": 89,
   "metadata": {},
   "outputs": [
    {
     "data": {
      "text/plain": [
       "unit_no        True\n",
       "time_cycles    True\n",
       "op_set1        True\n",
       "op_set2        True\n",
       "op_set3        True\n",
       "sem_1          True\n",
       "sem_2          True\n",
       "sem_3          True\n",
       "sem_4          True\n",
       "sem_5          True\n",
       "sem_6          True\n",
       "sem_7          True\n",
       "sem_8          True\n",
       "sem_9          True\n",
       "sem_10         True\n",
       "sem_11         True\n",
       "sem_12         True\n",
       "sem_13         True\n",
       "sem_14         True\n",
       "sem_15         True\n",
       "sem_16         True\n",
       "sem_17         True\n",
       "sem_18         True\n",
       "sem_19         True\n",
       "sem_20         True\n",
       "sem_21         True\n",
       "dtype: bool"
      ]
     },
     "execution_count": 89,
     "metadata": {},
     "output_type": "execute_result"
    }
   ],
   "source": [
    "df.all()"
   ]
  },
  {
   "cell_type": "code",
   "execution_count": 90,
   "metadata": {},
   "outputs": [
    {
     "data": {
      "text/plain": [
       "unit_no        12231\n",
       "time_cycles    12231\n",
       "op_set1        12231\n",
       "op_set2        12231\n",
       "op_set3        12231\n",
       "sem_1          12231\n",
       "sem_2          12231\n",
       "sem_3          12231\n",
       "sem_4          12231\n",
       "sem_5          12231\n",
       "sem_6          12231\n",
       "sem_7          12231\n",
       "sem_8          12231\n",
       "sem_9          12231\n",
       "sem_10         12231\n",
       "sem_11         12231\n",
       "sem_12         12231\n",
       "sem_13         12231\n",
       "sem_14         12231\n",
       "sem_15         12231\n",
       "sem_16         12231\n",
       "sem_17         12231\n",
       "sem_18         12231\n",
       "sem_19         12231\n",
       "sem_20         12231\n",
       "sem_21         12231\n",
       "dtype: int64"
      ]
     },
     "execution_count": 90,
     "metadata": {},
     "output_type": "execute_result"
    }
   ],
   "source": [
    "# Data Cleaning for Testing Data.\n",
    "# Checking for NUll values.\n",
    "df2.count()"
   ]
  },
  {
   "cell_type": "code",
   "execution_count": 91,
   "metadata": {},
   "outputs": [
    {
     "data": {
      "text/plain": [
       "Index(['unit_no', 'time_cycles', 'op_set1', 'op_set2', 'op_set3', 'sem_1',\n",
       "       'sem_2', 'sem_3', 'sem_4', 'sem_5', 'sem_6', 'sem_7', 'sem_8', 'sem_9',\n",
       "       'sem_10', 'sem_11', 'sem_12', 'sem_13', 'sem_14', 'sem_15', 'sem_16',\n",
       "       'sem_17', 'sem_18', 'sem_19', 'sem_20', 'sem_21'],\n",
       "      dtype='object')"
      ]
     },
     "execution_count": 91,
     "metadata": {},
     "output_type": "execute_result"
    }
   ],
   "source": [
    "df2.columns"
   ]
  },
  {
   "cell_type": "code",
   "execution_count": 93,
   "metadata": {},
   "outputs": [
    {
     "data": {
      "text/plain": [
       "unit_no         True\n",
       "time_cycles     True\n",
       "op_set1        False\n",
       "op_set2        False\n",
       "op_set3         True\n",
       "sem_1           True\n",
       "sem_2           True\n",
       "sem_3           True\n",
       "sem_4           True\n",
       "sem_5           True\n",
       "sem_6           True\n",
       "sem_7           True\n",
       "sem_8           True\n",
       "sem_9           True\n",
       "sem_10          True\n",
       "sem_11          True\n",
       "sem_12          True\n",
       "sem_13          True\n",
       "sem_14          True\n",
       "sem_15          True\n",
       "sem_16          True\n",
       "sem_17          True\n",
       "sem_18          True\n",
       "sem_19          True\n",
       "sem_20          True\n",
       "sem_21          True\n",
       "dtype: bool"
      ]
     },
     "execution_count": 93,
     "metadata": {},
     "output_type": "execute_result"
    }
   ],
   "source": [
    "df2.all()\n",
    "# Here we go, we got op_set1 and op_set2 with 0s.....F***k.."
   ]
  },
  {
   "cell_type": "code",
   "execution_count": 94,
   "metadata": {},
   "outputs": [],
   "source": [
    "# Handling 0s with mean values.\n",
    "df2['op_set1']=df2['op_set1'].replace(0,df2['op_set1'].mean())\n",
    "for indx, zero in enumerate(df2['op_set1']):\n",
    "    if zero == 0:\n",
    "        print(indx)"
   ]
  },
  {
   "cell_type": "code",
   "execution_count": 96,
   "metadata": {},
   "outputs": [],
   "source": [
    "df2['op_set2']=df2['op_set2'].replace(0,df2['op_set2'].mean())\n",
    "for indx, zero in enumerate(df2['op_set2']):\n",
    "    if zero == 0:\n",
    "        print(indx)"
   ]
  },
  {
   "cell_type": "code",
   "execution_count": 97,
   "metadata": {},
   "outputs": [
    {
     "data": {
      "text/plain": [
       "unit_no        True\n",
       "time_cycles    True\n",
       "op_set1        True\n",
       "op_set2        True\n",
       "op_set3        True\n",
       "sem_1          True\n",
       "sem_2          True\n",
       "sem_3          True\n",
       "sem_4          True\n",
       "sem_5          True\n",
       "sem_6          True\n",
       "sem_7          True\n",
       "sem_8          True\n",
       "sem_9          True\n",
       "sem_10         True\n",
       "sem_11         True\n",
       "sem_12         True\n",
       "sem_13         True\n",
       "sem_14         True\n",
       "sem_15         True\n",
       "sem_16         True\n",
       "sem_17         True\n",
       "sem_18         True\n",
       "sem_19         True\n",
       "sem_20         True\n",
       "sem_21         True\n",
       "dtype: bool"
      ]
     },
     "execution_count": 97,
     "metadata": {},
     "output_type": "execute_result"
    }
   ],
   "source": [
    "df2.all()"
   ]
  },
  {
   "cell_type": "code",
   "execution_count": 99,
   "metadata": {},
   "outputs": [
    {
     "data": {
      "text/plain": [
       "Index(['unit_no', 'time_cycles', 'op_set1', 'op_set2', 'op_set3', 'sem_1',\n",
       "       'sem_2', 'sem_3', 'sem_4', 'sem_5', 'sem_6', 'sem_7', 'sem_8', 'sem_9',\n",
       "       'sem_10', 'sem_11', 'sem_12', 'sem_13', 'sem_14', 'sem_15', 'sem_16',\n",
       "       'sem_17', 'sem_18', 'sem_19', 'sem_20', 'sem_21'],\n",
       "      dtype='object')"
      ]
     },
     "execution_count": 99,
     "metadata": {},
     "output_type": "execute_result"
    }
   ],
   "source": [
    "df.columns"
   ]
  },
  {
   "cell_type": "code",
   "execution_count": 121,
   "metadata": {},
   "outputs": [],
   "source": [
    "# Adding RUL to both dfs....\n",
    "df['RUL'] = df['time_cycles'].max() - df['time_cycles']\n",
    "df2['RUL'] = df2['time_cycles'].max() - df2['time_cycles']"
   ]
  },
  {
   "cell_type": "code",
   "execution_count": 120,
   "metadata": {},
   "outputs": [],
   "source": [
    "# Okay, So RUL is perfect...\n",
    "# for indx, zero in enumerate(df['RUL']):\n",
    "#     if zero == 500:\n",
    "#         print(indx)"
   ]
  },
  {
   "cell_type": "code",
   "execution_count": 122,
   "metadata": {},
   "outputs": [
    {
     "data": {
      "text/plain": [
       "idx\n",
       "0        524\n",
       "1        523\n",
       "2        522\n",
       "3        521\n",
       "4        520\n",
       "        ... \n",
       "24715    377\n",
       "24716    376\n",
       "24717    375\n",
       "24718    374\n",
       "24719    373\n",
       "Name: RUL, Length: 24720, dtype: int64"
      ]
     },
     "execution_count": 122,
     "metadata": {},
     "output_type": "execute_result"
    }
   ],
   "source": [
    "df.RUL"
   ]
  },
  {
   "cell_type": "code",
   "execution_count": 123,
   "metadata": {},
   "outputs": [
    {
     "data": {
      "text/plain": [
       "idx\n",
       "0        166\n",
       "1        165\n",
       "2        164\n",
       "3        163\n",
       "4        162\n",
       "        ... \n",
       "12226     24\n",
       "12227     23\n",
       "12228     22\n",
       "12229     21\n",
       "12230     20\n",
       "Name: RUL, Length: 12231, dtype: int64"
      ]
     },
     "execution_count": 123,
     "metadata": {},
     "output_type": "execute_result"
    }
   ],
   "source": [
    "df2.RUL"
   ]
  },
  {
   "cell_type": "code",
   "execution_count": 125,
   "metadata": {},
   "outputs": [],
   "source": [
    "# Moving data for data visualization.\n",
    "df.to_csv('../data_visualization/cleaned_training.csv')\n",
    "df2.to_csv('../data_visualization/cleaned_testing.csv')"
   ]
  },
  {
   "cell_type": "code",
   "execution_count": 126,
   "metadata": {},
   "outputs": [],
   "source": [
    "# That's it motherf***ks for here."
   ]
  }
 ],
 "metadata": {
  "interpreter": {
   "hash": "63fd5069d213b44bf678585dea6b12cceca9941eaf7f819626cde1f2670de90d"
  },
  "kernelspec": {
   "display_name": "Python 3.9.2 64-bit",
   "language": "python",
   "name": "python3"
  },
  "language_info": {
   "codemirror_mode": {
    "name": "ipython",
    "version": 3
   },
   "file_extension": ".py",
   "mimetype": "text/x-python",
   "name": "python",
   "nbconvert_exporter": "python",
   "pygments_lexer": "ipython3",
   "version": "3.9.2"
  },
  "orig_nbformat": 4
 },
 "nbformat": 4,
 "nbformat_minor": 2
}
